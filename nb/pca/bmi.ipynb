{
 "cells": [
  {
   "cell_type": "markdown",
   "metadata": {},
   "source": [
    "## The relation between body mass and length\n",
    "\n",
    "It is well known that there is a relationship between body mass and length of humans. This is normally seen as a linear relation between a body's squared length and its mass. Here we will try to investigate these properties based on simulated data.\n",
    "\n",
    "First we will generate data based on the assumption that there is a linear relation between a humans squared length, but we allow for some spread around that relation."
   ]
  },
  {
   "cell_type": "code",
   "execution_count": 255,
   "metadata": {},
   "outputs": [
    {
     "data": {
      "text/plain": [
       "<matplotlib.axes._subplots.AxesSubplot at 0x7f793084cf50>"
      ]
     },
     "execution_count": 255,
     "metadata": {},
     "output_type": "execute_result"
    },
    {
     "data": {
      "image/png": "[encoded data removed]",
      "text/plain": [
       "<Figure size 864x360 with 2 Axes>"
      ]
     },
     "metadata": {
      "needs_background": "light"
     },
     "output_type": "display_data"
    }
   ],
   "source": [
    "import numpy as np\n",
    "import pandas as pd\n",
    "import matplotlib.pyplot as plt\n",
    "import numpy.random as rnd\n",
    "\n",
    "m_length = 1.75 # meters\n",
    "slope=25.\n",
    "m_weight = slope*(m_length**2) # kg\n",
    "s_weight = 5 # kg\n",
    "s_ll = s_weight/slope \n",
    "cov = slope * (s_ll**2)\n",
    "s_measure = 0.1\n",
    "s_weight += s_measure\n",
    "s_ll += s_measure/slope\n",
    "S = [[s_weight**2, cov], [cov,s_ll**2]]\n",
    "wh = pd.DataFrame(columns=['weight','length*length'],data=rnd.multivariate_normal([m_weight,m_length*m_length], S, 50))\n",
    "wh[\"length\"] = np.sqrt(wh[\"length*length\"])   \n",
    "wh[\"bmi\"] = wh[\"weight\"]/wh[\"length*length\"]\n",
    "\n",
    "import seaborn as sns\n",
    "fig, (ax1, ax2) = plt.subplots(ncols=2, sharey=True,figsize=(12,5))\n",
    "sns.scatterplot(data=wh, y=\"weight\", x=\"length*length\", ax=ax1)\n",
    "sns.scatterplot(data=wh, y=\"weight\", x=\"length\", ax=ax2)\n"
   ]
  },
  {
   "cell_type": "markdown",
   "metadata": {},
   "source": [
    "Now given the distribution of simulated patients, what does a SVD of the data give us?\n",
    "Lets first investigate the 1st eigenpatient."
   ]
  },
  {
   "cell_type": "code",
   "execution_count": 256,
   "metadata": {},
   "outputs": [],
   "source": [
    "from numpy.linalg import svd\n",
    "X = wh[[\"length*length\",\"weight\"]].values\n",
    "Xmean = np.mean(X, axis=0)\n",
    "Xm = np.tile(Xmean[np.newaxis], (X.shape[0],1))\n",
    "U,S,Vt = svd((X-Xm), full_matrices=True, compute_uv=True)\n"
   ]
  },
  {
   "cell_type": "code",
   "execution_count": 257,
   "metadata": {},
   "outputs": [
    {
     "data": {
      "text/plain": [
       "array([0.03487246, 0.99939177])"
      ]
     },
     "execution_count": 257,
     "metadata": {},
     "output_type": "execute_result"
    }
   ],
   "source": [
    "Vt[0]"
   ]
  },
  {
   "cell_type": "markdown",
   "metadata": {},
   "source": [
    "The first component seem to give that the major variation of the data is in a direction wher for every movement in $length^2$ the component take 1/0.04 = 25 units in weight. Similarly, the second component stretches orthogonally:"
   ]
  },
  {
   "cell_type": "code",
   "execution_count": 258,
   "metadata": {},
   "outputs": [
    {
     "data": {
      "text/plain": [
       "array([ 0.99939177, -0.03487246])"
      ]
     },
     "execution_count": 258,
     "metadata": {},
     "output_type": "execute_result"
    }
   ],
   "source": [
    "Vt[1]"
   ]
  },
  {
   "cell_type": "markdown",
   "metadata": {},
   "source": [
    "where we instead move in 25 times as steep in $length^2$ as compared to weight. We can plot these eigenpatients."
   ]
  },
  {
   "cell_type": "code",
   "execution_count": 259,
   "metadata": {},
   "outputs": [
    {
     "data": {
      "text/plain": [
       "<matplotlib.patches.FancyArrow at 0x7f79308baa50>"
      ]
     },
     "execution_count": 259,
     "metadata": {},
     "output_type": "execute_result"
    },
    {
     "data": {
      "image/png": "[encoded data removed]",
      "text/plain": [
       "<Figure size 720x360 with 1 Axes>"
      ]
     },
     "metadata": {
      "needs_background": "light"
     },
     "output_type": "display_data"
    }
   ],
   "source": [
    "ax = plt.figure(figsize=(10,5))\n",
    "ax = sns.scatterplot(data=wh, y=\"weight\", x=\"length*length\")\n",
    "ax.arrow(Xmean[0], Xmean[1], Vt[0,0]*10, Vt[0,1]*10,\n",
    "             head_width=0.03,         #arrow head width\n",
    "             head_length=0.5,        #arrow head length\n",
    "             width=0.002,              #arrow stem width\n",
    "             fc='blue',             #arrow fill color\n",
    "             ec='blue')\n",
    "ax.arrow(Xmean[0], Xmean[1], Vt[1,0]*.1, Vt[1,1]*.1,\n",
    "             head_width=0.5,         #arrow head width\n",
    "             head_length=0.02,        #arrow head length\n",
    "             width=0.1,              #arrow stem width\n",
    "             fc='green',             #arrow fill color\n",
    "             ec='green')"
   ]
  },
  {
   "cell_type": "markdown",
   "metadata": {},
   "source": [
    "You might recognize that the covariation shown by the first eigenpatient is normaly seen as uninteresting, we all know that wieight is a function of the (squared) length. Often we calculate $bmi=\\frac{weight}{length^2}$, a measure that focus on what is left once we removes the part of the variationthat depends on length.  "
   ]
  },
  {
   "cell_type": "code",
   "execution_count": null,
   "metadata": {},
   "outputs": [],
   "source": []
  }
 ],
 "metadata": {
  "kernelspec": {
   "display_name": "Python 3",
   "language": "python",
   "name": "python3"
  },
  "language_info": {
   "codemirror_mode": {
    "name": "ipython",
    "version": 3
   },
   "file_extension": ".py",
   "mimetype": "text/x-python",
   "name": "python",
   "nbconvert_exporter": "python",
   "pygments_lexer": "ipython3",
   "version": "3.7.6"
  }
 },
 "nbformat": 4,
 "nbformat_minor": 4
}
