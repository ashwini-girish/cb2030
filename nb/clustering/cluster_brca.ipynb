{
 "cells": [
  {
   "cell_type": "markdown",
   "metadata": {},
   "source": [
    "## Cluster analysis of TCGA breast cancer sets\n",
    "\n",
    "[![Binder](https://mybinder.org/badge_logo.svg)](https://mybinder.org/v2/gh/statisticalbiotechnology/cb2030/master?filepath=nb%2Fclustering%2Fcluster_brca.ipynb)\n",
    "\n",
    "Here we are perfoming a k-means analysis of two different datasets within the TCGA. \n",
    "\n",
    "First we retrieve the breast cancer RNAseq data as well as the clinical classification of the sets from cbioportal.org. The code for the retrieval of this data set is not important for the understanding of the analysis, but the code is kept for completness. Execute the code and proceed to next step."
   ]
  },
  {
   "cell_type": "code",
   "execution_count": 1,
   "metadata": {},
   "outputs": [],
   "source": [
    "import pandas as pd\n",
    "import seaborn as sns\n",
    "import numpy as np\n",
    "import urllib.request\n",
    "import tarfile\n",
    "import gzip\n",
    "import requests\n",
    "\n",
    "def track_dl(url,tar):\n",
    "    response = requests.get(url, stream=True)\n",
    "    with open(tar, \"wb\") as handle:\n",
    "        for data in response.iter_content():\n",
    "            handle.write(data)\n",
    "\n",
    "def get_tar(url,path):\n",
    "    try:\n",
    "        tf = tarfile.open(path)\n",
    "    except:\n",
    "        track_dl(url, path)\n",
    "        tf = tarfile.open(path)\n",
    "    return tf\n",
    "\n",
    "def get_expression_data(path,url,file):\n",
    "    df = get_data(path,url,file)\n",
    "    df.dropna(axis=0, how='any', inplace=True)\n",
    "    df.set_index('Hugo_Symbol', inplace=True)\n",
    "    df.drop(columns=['Unnamed: 0', 'Entrez_Gene_Id'], inplace=True)\n",
    "    #df.drop(columns=['Entrez_Gene_Id'], inplace=True)\n",
    "    df = df.reindex(sorted(df.columns), axis=1)\n",
    "    return df\n",
    "\n",
    "def get_clinical_data(path,url,file):\n",
    "    df = get_data(path,url,file).T\n",
    "    df.columns = df.iloc[2]\n",
    "    df.drop(columns=[\"A unique sample identifier.\",\"STRING\",\"1\",\"SAMPLE_ID\"], inplace=True)\n",
    "#    df.drop(columns=[\"STRING\",\"1\"], inplace=True)\n",
    "    df.drop(index=[\"Unnamed: 0\",\"#Patient Identifier\",\"Sample Identifier\",\"Other Sample ID\"], inplace=True)\n",
    "    df = df.reindex(sorted(df.columns), axis=1)\n",
    "    return df\n",
    "\n",
    "def get_data(path,url,file):\n",
    "    try:\n",
    "        df = pd.read_csv(gzip.open(path,'rb'), sep=\"\\t\")\n",
    "    except:\n",
    "        tf = get_tar(url,\"my.tar.gz\")\n",
    "        tf.extract(file)\n",
    "        df = pd.read_csv(file, sep=\"\\t\")\n",
    "        df.to_csv(gzip.open(path,'wb'), sep=\"\\t\")\n",
    "    return df\n",
    "\n",
    "brca = get_expression_data(\"../../data/brca.tsv.gz\", 'http://download.cbioportal.org/brca_tcga_pub2015.tar.gz',\"data_RNA_Seq_v2_expression_median.txt\")\n",
    "brca_clin = get_clinical_data(\"../../data/brca_clin.tsv.gz\", 'http://download.cbioportal.org/brca_tcga_pub2015.tar.gz',\"data_clinical_sample.txt\")\n"
   ]
  },
  {
   "cell_type": "markdown",
   "metadata": {},
   "source": [
    "Before any further analysis we clean our data. This includes removal of genes where no transcripts were found for any of the samples , i.e. their values are either [NaN](https://en.wikipedia.org/wiki/NaN) or zero. \n",
    "\n",
    "The data is also log transformed. It is generally assumed that expression values follow a log-normal distribution, and hence the log transformation implies that the new values follow a nomal distribution."
   ]
  },
  {
   "cell_type": "code",
   "execution_count": 2,
   "metadata": {},
   "outputs": [],
   "source": [
    "brca.dropna(axis=0, how='any', inplace=True)\n",
    "brca = brca.loc[~(brca<=0.0).any(axis=1)]\n",
    "brca = pd.DataFrame(data=np.log2(brca),index=brca.index,columns=brca.columns)"
   ]
  },
  {
   "cell_type": "markdown",
   "metadata": {},
   "source": [
    "### Clustering with k-means\n",
    "\n",
    "We first try to separate our data, just as it stands, into two clusters. This is done with k-means clustering with k=2."
   ]
  },
  {
   "cell_type": "code",
   "execution_count": 3,
   "metadata": {},
   "outputs": [],
   "source": [
    "from sklearn.cluster import KMeans\n",
    "import numpy as np\n",
    "\n",
    "X = brca.values.T\n",
    "kmeans = KMeans(n_clusters=2, random_state=0).fit(X)\n",
    "label_df = pd.DataFrame(columns=brca.columns,index=[\"kmeans_2\"],data=[list(kmeans.labels_)])\n",
    "brca_clin=brca_clin.append(label_df,sort=True)\n"
   ]
  },
  {
   "cell_type": "markdown",
   "metadata": {},
   "source": [
    "We investigate the clusters to see what size they have."
   ]
  },
  {
   "cell_type": "code",
   "execution_count": 4,
   "metadata": {},
   "outputs": [
    {
     "data": {
      "text/plain": [
       "0    642\n",
       "1    175\n",
       "Name: kmeans_2, dtype: int64"
      ]
     },
     "execution_count": 4,
     "metadata": {},
     "output_type": "execute_result"
    }
   ],
   "source": [
    "label_df.loc[\"kmeans_2\"].value_counts()"
   ]
  },
  {
   "cell_type": "markdown",
   "metadata": {},
   "source": [
    "Do we see any reason for the clustering's divide of the data? There is actually one appealing interpretation.\n",
    "\n",
    "We can compare the clusters to wich patients that have been marked as [Progesterone receptor](https://en.wikipedia.org/wiki/Progesterone_receptor) Negative and [Estrogen receptor](https://en.wikipedia.org/wiki/Estrogen_receptor) Negative, i.e. the patologist did not fin that those receptors were expressed by the tumor. Such cancers are known to behave different than other cancers, and are less amendable to [hormonal theraphy](https://en.wikipedia.org/wiki/Hormonal_therapy_(oncology))."
   ]
  },
  {
   "cell_type": "code",
   "execution_count": 5,
   "metadata": {},
   "outputs": [
    {
     "data": {
      "text/html": [
       "<div>\n",
       "<style scoped>\n",
       "    .dataframe tbody tr th:only-of-type {\n",
       "        vertical-align: middle;\n",
       "    }\n",
       "\n",
       "    .dataframe tbody tr th {\n",
       "        vertical-align: top;\n",
       "    }\n",
       "\n",
       "    .dataframe thead th {\n",
       "        text-align: right;\n",
       "    }\n",
       "</style>\n",
       "<table border=\"1\" class=\"dataframe\">\n",
       "  <thead>\n",
       "    <tr style=\"text-align: right;\">\n",
       "      <th>Cluster</th>\n",
       "      <th>0</th>\n",
       "      <th>1</th>\n",
       "    </tr>\n",
       "    <tr>\n",
       "      <th>PR-&amp;ER-</th>\n",
       "      <th></th>\n",
       "      <th></th>\n",
       "    </tr>\n",
       "  </thead>\n",
       "  <tbody>\n",
       "    <tr>\n",
       "      <th>False</th>\n",
       "      <td>617</td>\n",
       "      <td>38</td>\n",
       "    </tr>\n",
       "    <tr>\n",
       "      <th>True</th>\n",
       "      <td>25</td>\n",
       "      <td>137</td>\n",
       "    </tr>\n",
       "  </tbody>\n",
       "</table>\n",
       "</div>"
      ],
      "text/plain": [
       "Cluster    0    1\n",
       "PR-&ER-          \n",
       "False    617   38\n",
       "True      25  137"
      ]
     },
     "execution_count": 5,
     "metadata": {},
     "output_type": "execute_result"
    }
   ],
   "source": [
    "brca_clin.loc[\"2N\"]= (brca_clin.loc[\"PR status by ihc\"]==\"Negative\") & (brca_clin.loc[\"ER Status By IHC\"]==\"Negative\")\n",
    "confusion_matrix = pd.crosstab(brca_clin.loc['2N'], brca_clin.loc['kmeans_2'], rownames=['PR-&ER-'], colnames=['Cluster'])\n",
    "confusion_matrix"
   ]
  },
  {
   "cell_type": "markdown",
   "metadata": {},
   "source": [
    "So this time the cluster seem to reflect the different nature of the samples. Cluster 0 contains the bulk of all patients that are both ER- and PR-."
   ]
  },
  {
   "cell_type": "markdown",
   "metadata": {},
   "source": [
    "### Gausian Mixturte models\n",
    "\n",
    "Another method to cluster data is Gausian Mixture Models (GMM). GMMs have a number of different applicats, however, here we use them for clustering. A key difference to k-Means, is that GMMs form their components (clusters) with different sense of distance in different feature directions directions.\n",
    "Below we perform a GMM clustering for two separate components."
   ]
  },
  {
   "cell_type": "code",
   "execution_count": 6,
   "metadata": {},
   "outputs": [],
   "source": [
    "from sklearn.mixture import GaussianMixture,BayesianGaussianMixture\n",
    "gmm = GaussianMixture(n_components=2, covariance_type='diag', random_state=0).fit(X)\n",
    "label_df = pd.DataFrame(columns=brca.columns,index=[\"GMM_2\"],data=[list(gmm.predict(X))])\n",
    "brca_clin=brca_clin.append(label_df,sort=True)\n"
   ]
  },
  {
   "cell_type": "markdown",
   "metadata": {},
   "source": [
    "Again we compare our components to the explanation that the two clusters manage to capture the difference between tumors that are both ER- and PR- and other tumors."
   ]
  },
  {
   "cell_type": "code",
   "execution_count": 7,
   "metadata": {},
   "outputs": [
    {
     "data": {
      "text/html": [
       "<div>\n",
       "<style scoped>\n",
       "    .dataframe tbody tr th:only-of-type {\n",
       "        vertical-align: middle;\n",
       "    }\n",
       "\n",
       "    .dataframe tbody tr th {\n",
       "        vertical-align: top;\n",
       "    }\n",
       "\n",
       "    .dataframe thead th {\n",
       "        text-align: right;\n",
       "    }\n",
       "</style>\n",
       "<table border=\"1\" class=\"dataframe\">\n",
       "  <thead>\n",
       "    <tr style=\"text-align: right;\">\n",
       "      <th>Component</th>\n",
       "      <th>0</th>\n",
       "      <th>1</th>\n",
       "    </tr>\n",
       "    <tr>\n",
       "      <th>PR-&amp;ER-</th>\n",
       "      <th></th>\n",
       "      <th></th>\n",
       "    </tr>\n",
       "  </thead>\n",
       "  <tbody>\n",
       "    <tr>\n",
       "      <th>False</th>\n",
       "      <td>238</td>\n",
       "      <td>417</td>\n",
       "    </tr>\n",
       "    <tr>\n",
       "      <th>True</th>\n",
       "      <td>151</td>\n",
       "      <td>11</td>\n",
       "    </tr>\n",
       "  </tbody>\n",
       "</table>\n",
       "</div>"
      ],
      "text/plain": [
       "Component    0    1\n",
       "PR-&ER-            \n",
       "False      238  417\n",
       "True       151   11"
      ]
     },
     "execution_count": 7,
     "metadata": {},
     "output_type": "execute_result"
    }
   ],
   "source": [
    "confusion_matrix = pd.crosstab(brca_clin.loc['2N'], brca_clin.loc['GMM_2'], rownames=['PR-&ER-'], colnames=['Component'])\n",
    "confusion_matrix"
   ]
  },
  {
   "cell_type": "markdown",
   "metadata": {},
   "source": [
    "The GMMs seem to have less clear separation between the two cases, with a fair number of the non ER-&PR- patients being included in cluster 0."
   ]
  },
  {
   "cell_type": "markdown",
   "metadata": {},
   "source": [
    "### Bayesian Gausian Mixture Models\n",
    "\n",
    "A nice way to impement GMMs is in a Bayesian framework. An advantage of such models is the possibility not have to specify the number of components k, but instead let the algorithm select it for you, given an upper bound of k. The following exampe, taken from the [scikit-learn documentation](https://scikit-learn.org/stable/auto_examples/mixture/plot_gmm.html#sphx-glr-auto-examples-mixture-plot-gmm-py) makes a direct demonstration of why that is useful on a two dimensional feature space."
   ]
  },
  {
   "cell_type": "code",
   "execution_count": 8,
   "metadata": {},
   "outputs": [
    {
     "name": "stderr",
     "output_type": "stream",
     "text": [
      "<ipython-input-8-ac82ecfe929f>:61: UserWarning: Matplotlib is currently using module://ipykernel.pylab.backend_inline, which is a non-GUI backend, so cannot show the figure.\n",
      "  fig.show()\n"
     ]
    },
    {
     "data": {
      "image/png": "[encoded data removed]",
      "text/plain": [
       "<Figure size 1008x360 with 2 Axes>"
      ]
     },
     "metadata": {},
     "output_type": "display_data"
    }
   ],
   "source": [
    "import itertools\n",
    "from scipy import linalg\n",
    "import matplotlib.pyplot as plt\n",
    "import matplotlib as mpl\n",
    "\n",
    "color_iter = itertools.cycle(['navy', 'c', 'cornflowerblue', 'gold',\n",
    "                              'darkorange'])\n",
    "\n",
    "\n",
    "def plot_results(X_, Y_, means, covariances, index, title,f):\n",
    "    splot = f.add_subplot(1, 2, 1 + index)\n",
    "    for i, (mean, covar, color) in enumerate(zip(\n",
    "            means, covariances, color_iter)):\n",
    "        v, w = linalg.eigh(covar)\n",
    "        v = 2. * np.sqrt(2.) * np.sqrt(v)\n",
    "        u = w[0] / linalg.norm(w[0])\n",
    "        # as the DP will not use every component it has access to\n",
    "        # unless it needs it, we shouldn't plot the redundant\n",
    "        # components.\n",
    "        if not np.any(Y_ == i):\n",
    "            continue\n",
    "        plt.scatter(X_[Y_ == i, 0], X_[Y_ == i, 1], .8, color=color)\n",
    "\n",
    "        # Plot an ellipse to show the Gaussian component\n",
    "        angle = np.arctan(u[1] / u[0])\n",
    "        angle = 180. * angle / np.pi  # convert to degrees\n",
    "        ell = mpl.patches.Ellipse(mean, v[0], v[1], 180. + angle, color=color)\n",
    "        ell.set_clip_box(splot.bbox)\n",
    "        ell.set_alpha(0.5)\n",
    "        splot.add_artist(ell)\n",
    "\n",
    "    plt.xlim(-9., 5.)\n",
    "    plt.ylim(-3., 6.)\n",
    "    plt.xticks(())\n",
    "    plt.yticks(())\n",
    "    plt.title(title)\n",
    "\n",
    "\n",
    "fig = plt.figure(figsize=(14,5))\n",
    "\n",
    "# Number of samples per component\n",
    "n_samples = 500\n",
    "\n",
    "# Generate random sample, two components\n",
    "np.random.seed(0)\n",
    "C = np.array([[0., -0.1], [1.7, .4]])\n",
    "X_ = np.r_[np.dot(np.random.randn(n_samples, 2), C),\n",
    "          .7 * np.random.randn(n_samples, 2) + np.array([-6, 3])]\n",
    "\n",
    "# Fit a Gaussian mixture with EM using five components\n",
    "gmm = GaussianMixture(n_components=5, covariance_type='full').fit(X_)\n",
    "plot_results(X_, gmm.predict(X_), gmm.means_, gmm.covariances_, 0,\n",
    "             'Gaussian Mixture',fig)\n",
    "\n",
    "# Fit a Dirichlet process Gaussian mixture using five components\n",
    "dpgmm = BayesianGaussianMixture(n_components=5,\n",
    "                                        covariance_type='full').fit(X_)\n",
    "plot_results(X_, dpgmm.predict(X_), dpgmm.means_, dpgmm.covariances_, 1,\n",
    "             'Bayesian Gaussian Mixture\\n(with a Dirichlet process prior)',fig)\n",
    "\n",
    "fig.show()"
   ]
  },
  {
   "cell_type": "markdown",
   "metadata": {},
   "source": [
    "The GMM to the left tries to apply five different component to the data that seem to origin from two sources. The Bayesian implementation correctly recognizes that there are just two components, and sucessfully captures their spread.\n",
    "\n",
    "We use the same technique, however instead of clustering our 20,000 dimensional data, we select a subset of 16 known cancer associated genes."
   ]
  },
  {
   "cell_type": "code",
   "execution_count": 9,
   "metadata": {},
   "outputs": [],
   "source": [
    "brca_names = [\"ESR1\", \"SLC44A4\", \"SCUBE2\", \"FOXA1\", \"CA12\", \"NAT1\", \"BCAS1\", \"AFF3\", \"DNALI1\", \"CDCA7\", \"FOXC1\", \"SFRP1\", \"C1ORF106\", \"S100A9\", \"EN1\", \"PSAT1\"]\n",
    "Xlim = brca.loc[brca_names].values.T"
   ]
  },
  {
   "cell_type": "code",
   "execution_count": 10,
   "metadata": {},
   "outputs": [],
   "source": [
    "bgmm = BayesianGaussianMixture(n_components=30, covariance_type='diag', random_state=0,max_iter=50,n_init=10).fit(Xlim)\n",
    "label_df = pd.DataFrame(columns=brca.columns,index=[\"LimBGMM_30\"],data=[list(bgmm.predict(Xlim))])\n",
    "brca_clin=brca_clin.append(label_df,sort=True)\n"
   ]
  },
  {
   "cell_type": "code",
   "execution_count": 11,
   "metadata": {},
   "outputs": [
    {
     "data": {
      "text/plain": [
       "12    247\n",
       "0     191\n",
       "5     146\n",
       "7     135\n",
       "9      72\n",
       "3      25\n",
       "15      1\n",
       "Name: LimBGMM_30, dtype: int64"
      ]
     },
     "execution_count": 11,
     "metadata": {},
     "output_type": "execute_result"
    }
   ],
   "source": [
    "label_df.loc[\"LimBGMM_30\"].value_counts()"
   ]
  },
  {
   "cell_type": "markdown",
   "metadata": {},
   "source": [
    "The algoritm clusters the data into 11 different clusters, where the bulk of the samples are in the 7 largest clusters.\n",
    "The interpretation of this clustering is left to you as a reader."
   ]
  },
  {
   "cell_type": "code",
   "execution_count": null,
   "metadata": {},
   "outputs": [],
   "source": []
  }
 ],
 "metadata": {
  "kernelspec": {
   "display_name": "Python 3",
   "language": "python",
   "name": "python3"
  },
  "language_info": {
   "codemirror_mode": {
    "name": "ipython",
    "version": 3
   },
   "file_extension": ".py",
   "mimetype": "text/x-python",
   "name": "python",
   "nbconvert_exporter": "python",
   "pygments_lexer": "ipython3",
   "version": "3.8.5"
  }
 },
 "nbformat": 4,
 "nbformat_minor": 4
}
